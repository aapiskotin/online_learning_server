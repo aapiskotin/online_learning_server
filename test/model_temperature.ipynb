{
 "cells": [
  {
   "cell_type": "code",
   "execution_count": 39,
   "outputs": [],
   "source": [
    "import math\n",
    "import random\n",
    "from typing import Dict\n",
    "\n",
    "import requests as r\n",
    "from tqdm.notebook import tqdm\n",
    "\n",
    "import matplotlib.pyplot as plt"
   ],
   "metadata": {
    "collapsed": false,
    "pycharm": {
     "name": "#%%\n"
    }
   }
  },
  {
   "cell_type": "code",
   "execution_count": 8,
   "outputs": [],
   "source": [
    "# VW minimizes loss/cost, therefore we will pass cost as -reward\n",
    "USER_LIKED_TEMPERATURE = -1.0\n",
    "USER_DISLIKED_TEMPERATURE = 0.0"
   ],
   "metadata": {
    "collapsed": false,
    "pycharm": {
     "name": "#%%\n"
    }
   }
  },
  {
   "cell_type": "markdown",
   "source": [
    "## Simulate reward\n",
    "\n",
    "In the real world we will have to learn the room temperature preferences as we observe the interactions between the proposed temperature for each room and the one selected by the people living in the house. Since this is a simulation we will have to define the preference profile for each room. The reward that we provide to the learner will follow this preference profile. Our hope is to see if the learner can take better and better decisions as we see more samples which in turn means we are maximizing the reward.\n",
    "\n",
    "We will also modify the reward function in a few different ways and see if the CB learner picks up the changes. We will compare the TR with and without learning.\n",
    "\n",
    "VW minimizes the cost, which is defined as -reward. Therefore, we will pass the cost associated to each chosen action to VW.\n",
    "\n",
    "\n",
    "The reward function below specifies that we want the living room to be cold in the morning but warm in the afternoon. In reverse, we prefer the bedroom to be warm in the morning and cold in the afternoon. It looks dense but we are just simulating our hypothetical world in the format of the feedback the learner understands: cost. If the learner recommends a temperature that aligns with the reward function, we give a positive reward. Max reward is -1.0, min reward is 0 since VW learns in terms of cost, so we return a negative reward. In our simulated world this is the difference between the temperature recommended and the temperature chosen. If the difference is smaller than 5 degrees then we give a reward to the thermostat. This is a steep cost function."
   ],
   "metadata": {
    "collapsed": false,
    "pycharm": {
     "name": "#%% md\n"
    }
   }
  },
  {
   "cell_type": "code",
   "execution_count": 35,
   "outputs": [],
   "source": [
    "def get_cost(context, temperature):\n",
    "    if context[\"room\"] == \"Living Room\":\n",
    "        if context[\"time_of_day\"] == \"morning\":\n",
    "            # randomly pick a temperature in this range\n",
    "            selected_temperature = random.uniform(15, 18)\n",
    "            # the absolute difference between selected temperature and proposed temperature\n",
    "            if math.fabs(selected_temperature - temperature) < 5.0:\n",
    "                return USER_LIKED_TEMPERATURE\n",
    "            else:\n",
    "                return USER_DISLIKED_TEMPERATURE\n",
    "        elif context[\"time_of_day\"] == \"afternoon\":\n",
    "            selected_temperature = random.uniform(25, 29)\n",
    "            # the absolute difference between selected temperature and proposed temperature\n",
    "            if math.fabs(selected_temperature - temperature) < 5.0:\n",
    "                return USER_LIKED_TEMPERATURE\n",
    "            else:\n",
    "                return USER_DISLIKED_TEMPERATURE\n",
    "        else:\n",
    "            return USER_DISLIKED_TEMPERATURE\n",
    "    elif context[\"room\"] == \"Bedroom\":\n",
    "        if context[\"time_of_day\"] == \"morning\":\n",
    "            # randomly pick a temperature in this range\n",
    "            selected_temperature = random.uniform(22, 29)\n",
    "            # the absolute difference between selected temperature and proposed temperature\n",
    "            if math.fabs(selected_temperature - temperature) < 5.0:\n",
    "                return USER_LIKED_TEMPERATURE\n",
    "            else:\n",
    "                return USER_DISLIKED_TEMPERATURE\n",
    "        elif context[\"time_of_day\"] == \"afternoon\":\n",
    "            # randomly pick a temperature in this range\n",
    "            selected_temperature = random.uniform(15, 18)\n",
    "            # the absolute difference between selected temperature and proposed temperature\n",
    "            if math.fabs(selected_temperature - temperature) < 5.0:\n",
    "                return USER_LIKED_TEMPERATURE\n",
    "            else:\n",
    "                return USER_DISLIKED_TEMPERATURE\n",
    "        else:\n",
    "            return USER_DISLIKED_TEMPERATURE\n",
    "    else:\n",
    "        return USER_DISLIKED_TEMPERATURE"
   ],
   "metadata": {
    "collapsed": false,
    "pycharm": {
     "name": "#%%\n"
    }
   }
  },
  {
   "cell_type": "markdown",
   "source": [
    "# Test requesting"
   ],
   "metadata": {
    "collapsed": false,
    "pycharm": {
     "name": "#%% md\n"
    }
   }
  },
  {
   "cell_type": "code",
   "execution_count": 13,
   "outputs": [],
   "source": [
    "def make_context(room: str, time_of_day: str) -> Dict[str, str]:\n",
    "    return {\"room\": room, \"time_of_day\": time_of_day}"
   ],
   "metadata": {
    "collapsed": false,
    "pycharm": {
     "name": "#%%\n"
    }
   }
  },
  {
   "cell_type": "code",
   "execution_count": 23,
   "outputs": [],
   "source": [
    "def make_label(action: float, cost: float, pdf_value: float) -> Dict[str, float]:\n",
    "    return {\"action\": action, \"cost\": cost, \"pdf_value\": pdf_value}"
   ],
   "metadata": {
    "collapsed": false,
    "pycharm": {
     "name": "#%%\n"
    }
   }
  },
  {
   "cell_type": "code",
   "execution_count": 14,
   "outputs": [],
   "source": [
    "host = 'http://192.168.1.3:1337'"
   ],
   "metadata": {
    "collapsed": false,
    "pycharm": {
     "name": "#%%\n"
    }
   }
  },
  {
   "cell_type": "code",
   "execution_count": 17,
   "outputs": [
    {
     "data": {
      "text/plain": "'2022-06-12 16:04:39.154890'"
     },
     "execution_count": 17,
     "metadata": {},
     "output_type": "execute_result"
    }
   ],
   "source": [
    "r.get(host+'/time').text"
   ],
   "metadata": {
    "collapsed": false,
    "pycharm": {
     "name": "#%%\n"
    }
   }
  },
  {
   "cell_type": "code",
   "execution_count": 22,
   "outputs": [
    {
     "data": {
      "text/plain": "{'action': 3.2255001068115234, 'pdf_value': 0.22812499105930328}"
     },
     "execution_count": 22,
     "metadata": {},
     "output_type": "execute_result"
    }
   ],
   "source": [
    "r.post(host+'/predict', json=make_context('Living Room', 'morning')).json()"
   ],
   "metadata": {
    "collapsed": false,
    "pycharm": {
     "name": "#%%\n"
    }
   }
  },
  {
   "cell_type": "code",
   "execution_count": 27,
   "outputs": [
    {
     "data": {
      "text/plain": "{'status': 'OK'}"
     },
     "execution_count": 27,
     "metadata": {},
     "output_type": "execute_result"
    }
   ],
   "source": [
    "r.post(\n",
    "    host+'/update',\n",
    "    json={\n",
    "        'context': make_context('Living Room', 'morning'),\n",
    "        'label': make_label(action=3.22, cost=0, pdf_value=0.228),\n",
    "    },\n",
    ").json()"
   ],
   "metadata": {
    "collapsed": false,
    "pycharm": {
     "name": "#%%\n"
    }
   }
  },
  {
   "cell_type": "markdown",
   "source": [
    "# Run coninuous simulation"
   ],
   "metadata": {
    "collapsed": false,
    "pycharm": {
     "name": "#%% md\n"
    }
   }
  },
  {
   "cell_type": "code",
   "execution_count": 36,
   "outputs": [
    {
     "data": {
      "text/plain": "  0%|          | 0/10000 [00:00<?, ?it/s]",
      "application/vnd.jupyter.widget-view+json": {
       "version_major": 2,
       "version_minor": 0,
       "model_id": "d488d11301bb452b96a0bb842e84def5"
      }
     },
     "metadata": {},
     "output_type": "display_data"
    }
   ],
   "source": [
    "rewards = []\n",
    "for _ in tqdm(range(10_000)):\n",
    "    context = make_context(\n",
    "        room=random.choice([\"Living Room\", \"Bedroom\"]),\n",
    "        time_of_day=random.choice([\"morning\", \"afternoon\"]),\n",
    "    )\n",
    "    prediction = r.post(host+'/predict', json=context).json()\n",
    "\n",
    "    cost = get_cost(context, prediction['action'])\n",
    "\n",
    "    r.post(\n",
    "        host+'/update',\n",
    "        json={\n",
    "            'context': context,\n",
    "            'label': make_label(\n",
    "                prediction['action'],\n",
    "                cost,\n",
    "                prediction['pdf_value'],\n",
    "            ),\n",
    "        }\n",
    "    )\n",
    "\n",
    "    rewards.append(-cost)"
   ],
   "metadata": {
    "collapsed": false,
    "pycharm": {
     "name": "#%%\n"
    }
   }
  },
  {
   "cell_type": "code",
   "execution_count": 37,
   "outputs": [],
   "source": [
    "mean_rewards = [\n",
    "    sum(rewards[i:i+100])/100\n",
    "    for i in range(0, len(rewards), 100)\n",
    "]"
   ],
   "metadata": {
    "collapsed": false,
    "pycharm": {
     "name": "#%%\n"
    }
   }
  },
  {
   "cell_type": "code",
   "execution_count": 41,
   "outputs": [
    {
     "data": {
      "text/plain": "<matplotlib.lines.Line2D at 0x7fa059a9fb20>"
     },
     "execution_count": 41,
     "metadata": {},
     "output_type": "execute_result"
    },
    {
     "data": {
      "text/plain": "<Figure size 432x288 with 1 Axes>",
      "image/png": "[encoded data removed]"
     },
     "metadata": {
      "needs_background": "light"
     },
     "output_type": "display_data"
    }
   ],
   "source": [
    "plt.plot(mean_rewards)\n",
    "plt.ylim(0, 1)\n",
    "plt.axhline(0.9, color='r', ls='--')"
   ],
   "metadata": {
    "collapsed": false,
    "pycharm": {
     "name": "#%%\n"
    }
   }
  },
  {
   "cell_type": "code",
   "execution_count": null,
   "outputs": [],
   "source": [],
   "metadata": {
    "collapsed": false,
    "pycharm": {
     "name": "#%%\n"
    }
   }
  }
 ],
 "metadata": {
  "kernelspec": {
   "display_name": "Python 3",
   "language": "python",
   "name": "python3"
  },
  "language_info": {
   "codemirror_mode": {
    "name": "ipython",
    "version": 2
   },
   "file_extension": ".py",
   "mimetype": "text/x-python",
   "name": "python",
   "nbconvert_exporter": "python",
   "pygments_lexer": "ipython2",
   "version": "2.7.6"
  }
 },
 "nbformat": 4,
 "nbformat_minor": 0
}