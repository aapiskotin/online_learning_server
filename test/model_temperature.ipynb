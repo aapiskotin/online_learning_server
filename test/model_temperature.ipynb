{
 "cells": [
  {
   "cell_type": "markdown",
   "source": [
    "# Definitions"
   ],
   "metadata": {
    "collapsed": false,
    "pycharm": {
     "name": "#%% md\n"
    }
   }
  },
  {
   "cell_type": "code",
   "execution_count": 131,
   "outputs": [],
   "source": [
    "import dbm\n",
    "import math\n",
    "import random\n",
    "from datetime import datetime\n",
    "from typing import Dict\n",
    "\n",
    "import ujson\n",
    "import yaml\n",
    "from pathlib import Path\n",
    "\n",
    "import numpy as np\n",
    "import pandas as pd\n",
    "import requests as r\n",
    "from tqdm.notebook import tqdm\n",
    "\n",
    "import matplotlib.pyplot as plt\n",
    "import seaborn as sns"
   ],
   "metadata": {
    "collapsed": false,
    "pycharm": {
     "name": "#%%\n"
    }
   }
  },
  {
   "cell_type": "code",
   "execution_count": 71,
   "outputs": [
    {
     "data": {
      "text/plain": "True"
     },
     "execution_count": 71,
     "metadata": {},
     "output_type": "execute_result"
    }
   ],
   "source": [
    "data_path = Path('..', 'data')\n",
    "data_path.exists()"
   ],
   "metadata": {
    "collapsed": false,
    "pycharm": {
     "name": "#%%\n"
    }
   }
  },
  {
   "cell_type": "code",
   "execution_count": 8,
   "outputs": [],
   "source": [
    "# VW minimizes loss/cost, therefore we will pass cost as -reward\n",
    "USER_LIKED_TEMPERATURE = -1.0\n",
    "USER_DISLIKED_TEMPERATURE = 0.0"
   ],
   "metadata": {
    "collapsed": false,
    "pycharm": {
     "name": "#%%\n"
    }
   }
  },
  {
   "cell_type": "markdown",
   "source": [
    "## Simulate reward\n",
    "\n",
    "In the real world we will have to learn the room temperature preferences as we observe the interactions between the proposed temperature for each room and the one selected by the people living in the house. Since this is a simulation we will have to define the preference profile for each room. The reward that we provide to the learner will follow this preference profile. Our hope is to see if the learner can take better and better decisions as we see more samples which in turn means we are maximizing the reward.\n",
    "\n",
    "We will also modify the reward function in a few different ways and see if the CB learner picks up the changes. We will compare the TR with and without learning.\n",
    "\n",
    "VW minimizes the cost, which is defined as -reward. Therefore, we will pass the cost associated to each chosen action to VW.\n",
    "\n",
    "\n",
    "The reward function below specifies that we want the living room to be cold in the morning but warm in the afternoon. In reverse, we prefer the bedroom to be warm in the morning and cold in the afternoon. It looks dense but we are just simulating our hypothetical world in the format of the feedback the learner understands: cost. If the learner recommends a temperature that aligns with the reward function, we give a positive reward. Max reward is -1.0, min reward is 0 since VW learns in terms of cost, so we return a negative reward. In our simulated world this is the difference between the temperature recommended and the temperature chosen. If the difference is smaller than 5 degrees then we give a reward to the thermostat. This is a steep cost function."
   ],
   "metadata": {
    "collapsed": false,
    "pycharm": {
     "name": "#%% md\n"
    }
   }
  },
  {
   "cell_type": "code",
   "execution_count": 35,
   "outputs": [],
   "source": [
    "def get_cost(context, temperature):\n",
    "    if context[\"room\"] == \"Living Room\":\n",
    "        if context[\"time_of_day\"] == \"morning\":\n",
    "            # randomly pick a temperature in this range\n",
    "            selected_temperature = random.uniform(15, 18)\n",
    "            # the absolute difference between selected temperature and proposed temperature\n",
    "            if math.fabs(selected_temperature - temperature) < 5.0:\n",
    "                return USER_LIKED_TEMPERATURE\n",
    "            else:\n",
    "                return USER_DISLIKED_TEMPERATURE\n",
    "        elif context[\"time_of_day\"] == \"afternoon\":\n",
    "            selected_temperature = random.uniform(25, 29)\n",
    "            # the absolute difference between selected temperature and proposed temperature\n",
    "            if math.fabs(selected_temperature - temperature) < 5.0:\n",
    "                return USER_LIKED_TEMPERATURE\n",
    "            else:\n",
    "                return USER_DISLIKED_TEMPERATURE\n",
    "        else:\n",
    "            return USER_DISLIKED_TEMPERATURE\n",
    "    elif context[\"room\"] == \"Bedroom\":\n",
    "        if context[\"time_of_day\"] == \"morning\":\n",
    "            # randomly pick a temperature in this range\n",
    "            selected_temperature = random.uniform(22, 29)\n",
    "            # the absolute difference between selected temperature and proposed temperature\n",
    "            if math.fabs(selected_temperature - temperature) < 5.0:\n",
    "                return USER_LIKED_TEMPERATURE\n",
    "            else:\n",
    "                return USER_DISLIKED_TEMPERATURE\n",
    "        elif context[\"time_of_day\"] == \"afternoon\":\n",
    "            # randomly pick a temperature in this range\n",
    "            selected_temperature = random.uniform(15, 18)\n",
    "            # the absolute difference between selected temperature and proposed temperature\n",
    "            if math.fabs(selected_temperature - temperature) < 5.0:\n",
    "                return USER_LIKED_TEMPERATURE\n",
    "            else:\n",
    "                return USER_DISLIKED_TEMPERATURE\n",
    "        else:\n",
    "            return USER_DISLIKED_TEMPERATURE\n",
    "    else:\n",
    "        return USER_DISLIKED_TEMPERATURE"
   ],
   "metadata": {
    "collapsed": false,
    "pycharm": {
     "name": "#%%\n"
    }
   }
  },
  {
   "cell_type": "markdown",
   "source": [
    "# Test requesting"
   ],
   "metadata": {
    "collapsed": false,
    "pycharm": {
     "name": "#%% md\n"
    }
   }
  },
  {
   "cell_type": "code",
   "execution_count": 13,
   "outputs": [],
   "source": [
    "def make_context(room: str, time_of_day: str) -> Dict[str, str]:\n",
    "    return {\"room\": room, \"time_of_day\": time_of_day}"
   ],
   "metadata": {
    "collapsed": false,
    "pycharm": {
     "name": "#%%\n"
    }
   }
  },
  {
   "cell_type": "code",
   "execution_count": 23,
   "outputs": [],
   "source": [
    "def make_label(action: float, cost: float, pdf_value: float) -> Dict[str, float]:\n",
    "    return {\"action\": action, \"cost\": cost, \"pdf_value\": pdf_value}"
   ],
   "metadata": {
    "collapsed": false,
    "pycharm": {
     "name": "#%%\n"
    }
   }
  },
  {
   "cell_type": "code",
   "execution_count": 14,
   "outputs": [],
   "source": [
    "host = 'http://192.168.1.3:1337'"
   ],
   "metadata": {
    "collapsed": false,
    "pycharm": {
     "name": "#%%\n"
    }
   }
  },
  {
   "cell_type": "code",
   "execution_count": 17,
   "outputs": [
    {
     "data": {
      "text/plain": "'2022-06-12 16:04:39.154890'"
     },
     "execution_count": 17,
     "metadata": {},
     "output_type": "execute_result"
    }
   ],
   "source": [
    "r.get(host+'/time').text"
   ],
   "metadata": {
    "collapsed": false,
    "pycharm": {
     "name": "#%%\n"
    }
   }
  },
  {
   "cell_type": "code",
   "execution_count": 22,
   "outputs": [
    {
     "data": {
      "text/plain": "{'action': 3.2255001068115234, 'pdf_value': 0.22812499105930328}"
     },
     "execution_count": 22,
     "metadata": {},
     "output_type": "execute_result"
    }
   ],
   "source": [
    "r.post(host+'/predict', json=make_context('Living Room', 'morning')).json()"
   ],
   "metadata": {
    "collapsed": false,
    "pycharm": {
     "name": "#%%\n"
    }
   }
  },
  {
   "cell_type": "code",
   "execution_count": 27,
   "outputs": [
    {
     "data": {
      "text/plain": "{'status': 'OK'}"
     },
     "execution_count": 27,
     "metadata": {},
     "output_type": "execute_result"
    }
   ],
   "source": [
    "r.post(\n",
    "    host+'/update',\n",
    "    json={\n",
    "        'context': make_context('Living Room', 'morning'),\n",
    "        'label': make_label(action=3.22, cost=0, pdf_value=0.228),\n",
    "    },\n",
    ").json()"
   ],
   "metadata": {
    "collapsed": false,
    "pycharm": {
     "name": "#%%\n"
    }
   }
  },
  {
   "cell_type": "markdown",
   "source": [
    "# Run coninuous simulation"
   ],
   "metadata": {
    "collapsed": false,
    "pycharm": {
     "name": "#%% md\n"
    }
   }
  },
  {
   "cell_type": "code",
   "execution_count": 154,
   "outputs": [
    {
     "data": {
      "text/plain": "  0%|          | 0/10000 [00:00<?, ?it/s]",
      "application/vnd.jupyter.widget-view+json": {
       "version_major": 2,
       "version_minor": 0,
       "model_id": "832d670bc93d4796a619f2591649ffd3"
      }
     },
     "metadata": {},
     "output_type": "display_data"
    },
    {
     "ename": "JSONDecodeError",
     "evalue": "[Errno Expecting value] <!DOCTYPE HTML PUBLIC \"-//W3C//DTD HTML 4.01 Transitional//EN\"\n  \"http://www.w3.org/TR/html4/loose.dtd\">\n<html>\n  <head>\n    <title>KeyError: &#x27;context&#x27; // Werkzeug Debugger</title>\n    <link rel=\"stylesheet\" href=\"?__debugger__=yes&amp;cmd=resource&amp;f=style.css\"\n        type=\"text/css\">\n    <!-- We need to make sure this has a favicon so that the debugger does\n         not accidentally trigger a request to /favicon.ico which might\n         change the application's state. -->\n    <link rel=\"shortcut icon\"\n        href=\"?__debugger__=yes&amp;cmd=resource&amp;f=console.png\">\n    <script src=\"?__debugger__=yes&amp;cmd=resource&amp;f=debugger.js\"></script>\n    <script type=\"text/javascript\">\n      var TRACEBACK = 140254444414624,\n          CONSOLE_MODE = false,\n          EVALEX = true,\n          EVALEX_TRUSTED = false,\n          SECRET = \"QlsB2NZb7SFsKHLm3B1y\";\n    </script>\n  </head>\n  <body style=\"background-color: #fff\">\n    <div class=\"debugger\">\n<h1>KeyError</h1>\n<div class=\"detail\">\n  <p class=\"errormsg\">KeyError: &#x27;context&#x27;</p>\n</div>\n<h2 class=\"traceback\">Traceback <em>(most recent call last)</em></h2>\n<div class=\"traceback\">\n  <h3></h3>\n  <ul><li><div class=\"frame\" id=\"frame-140254444413280\">\n  <h4>File <cite class=\"filename\">\"/Users/aapiskotin/.conda/envs/online_learning_server/lib/python3.9/site-packages/flask/app.py\"</cite>,\n      line <em class=\"line\">2091</em>,\n      in <code class=\"function\">__call__</code></h4>\n  <div class=\"source library\"><pre class=\"line before\"><span class=\"ws\">    </span>def __call__(self, environ: dict, start_response: t.Callable) -&gt; t.Any:</pre>\n<pre class=\"line before\"><span class=\"ws\">        </span>&quot;&quot;&quot;The WSGI server calls the Flask application object as the</pre>\n<pre class=\"line before\"><span class=\"ws\">        </span>WSGI application. This calls :meth:`wsgi_app`, which can be</pre>\n<pre class=\"line before\"><span class=\"ws\">        </span>wrapped to apply middleware.</pre>\n<pre class=\"line before\"><span class=\"ws\">        </span>&quot;&quot;&quot;</pre>\n<pre class=\"line current\"><span class=\"ws\">        </span>return self.wsgi_app(environ, start_response)</pre></div>\n</div>\n\n<li><div class=\"frame\" id=\"frame-140254444413328\">\n  <h4>File <cite class=\"filename\">\"/Users/aapiskotin/.conda/envs/online_learning_server/lib/python3.9/site-packages/flask/app.py\"</cite>,\n      line <em class=\"line\">2076</em>,\n      in <code class=\"function\">wsgi_app</code></h4>\n  <div class=\"source library\"><pre class=\"line before\"><span class=\"ws\">            </span>try:</pre>\n<pre class=\"line before\"><span class=\"ws\">                </span>ctx.push()</pre>\n<pre class=\"line before\"><span class=\"ws\">                </span>response = self.full_dispatch_request()</pre>\n<pre class=\"line before\"><span class=\"ws\">            </span>except Exception as e:</pre>\n<pre class=\"line before\"><span class=\"ws\">                </span>error = e</pre>\n<pre class=\"line current\"><span class=\"ws\">                </span>response = self.handle_exception(e)</pre>\n<pre class=\"line after\"><span class=\"ws\">            </span>except:  # noqa: B001</pre>\n<pre class=\"line after\"><span class=\"ws\">                </span>error = sys.exc_info()[1]</pre>\n<pre class=\"line after\"><span class=\"ws\">                </span>raise</pre>\n<pre class=\"line after\"><span class=\"ws\">            </span>return response(environ, start_response)</pre>\n<pre class=\"line after\"><span class=\"ws\">        </span>finally:</pre></div>\n</div>\n\n<li><div class=\"frame\" id=\"frame-140254444413424\">\n  <h4>File <cite class=\"filename\">\"/Users/aapiskotin/.conda/envs/online_learning_server/lib/python3.9/site-packages/flask/app.py\"</cite>,\n      line <em class=\"line\">2073</em>,\n      in <code class=\"function\">wsgi_app</code></h4>\n  <div class=\"source library\"><pre class=\"line before\"><span class=\"ws\">        </span>ctx = self.request_context(environ)</pre>\n<pre class=\"line before\"><span class=\"ws\">        </span>error: t.Optional[BaseException] = None</pre>\n<pre class=\"line before\"><span class=\"ws\">        </span>try:</pre>\n<pre class=\"line before\"><span class=\"ws\">            </span>try:</pre>\n<pre class=\"line before\"><span class=\"ws\">                </span>ctx.push()</pre>\n<pre class=\"line current\"><span class=\"ws\">                </span>response = self.full_dispatch_request()</pre>\n<pre class=\"line after\"><span class=\"ws\">            </span>except Exception as e:</pre>\n<pre class=\"line after\"><span class=\"ws\">                </span>error = e</pre>\n<pre class=\"line after\"><span class=\"ws\">                </span>response = self.handle_exception(e)</pre>\n<pre class=\"line after\"><span class=\"ws\">            </span>except:  # noqa: B001</pre>\n<pre class=\"line after\"><span class=\"ws\">                </span>error = sys.exc_info()[1]</pre></div>\n</div>\n\n<li><div class=\"frame\" id=\"frame-140254444412992\">\n  <h4>File <cite class=\"filename\">\"/Users/aapiskotin/.conda/envs/online_learning_server/lib/python3.9/site-packages/flask/app.py\"</cite>,\n      line <em class=\"line\">1518</em>,\n      in <code class=\"function\">full_dispatch_request</code></h4>\n  <div class=\"source library\"><pre class=\"line before\"><span class=\"ws\">            </span>request_started.send(self)</pre>\n<pre class=\"line before\"><span class=\"ws\">            </span>rv = self.preprocess_request()</pre>\n<pre class=\"line before\"><span class=\"ws\">            </span>if rv is None:</pre>\n<pre class=\"line before\"><span class=\"ws\">                </span>rv = self.dispatch_request()</pre>\n<pre class=\"line before\"><span class=\"ws\">        </span>except Exception as e:</pre>\n<pre class=\"line current\"><span class=\"ws\">            </span>rv = self.handle_user_exception(e)</pre>\n<pre class=\"line after\"><span class=\"ws\">        </span>return self.finalize_request(rv)</pre>\n<pre class=\"line after\"><span class=\"ws\"></span> </pre>\n<pre class=\"line after\"><span class=\"ws\">    </span>def finalize_request(</pre>\n<pre class=\"line after\"><span class=\"ws\">        </span>self,</pre>\n<pre class=\"line after\"><span class=\"ws\">        </span>rv: t.Union[ResponseReturnValue, HTTPException],</pre></div>\n</div>\n\n<li><div class=\"frame\" id=\"frame-140254444413568\">\n  <h4>File <cite class=\"filename\">\"/Users/aapiskotin/.conda/envs/online_learning_server/lib/python3.9/site-packages/flask/app.py\"</cite>,\n      line <em class=\"line\">1516</em>,\n      in <code class=\"function\">full_dispatch_request</code></h4>\n  <div class=\"source library\"><pre class=\"line before\"><span class=\"ws\">        </span>self.try_trigger_before_first_request_functions()</pre>\n<pre class=\"line before\"><span class=\"ws\">        </span>try:</pre>\n<pre class=\"line before\"><span class=\"ws\">            </span>request_started.send(self)</pre>\n<pre class=\"line before\"><span class=\"ws\">            </span>rv = self.preprocess_request()</pre>\n<pre class=\"line before\"><span class=\"ws\">            </span>if rv is None:</pre>\n<pre class=\"line current\"><span class=\"ws\">                </span>rv = self.dispatch_request()</pre>\n<pre class=\"line after\"><span class=\"ws\">        </span>except Exception as e:</pre>\n<pre class=\"line after\"><span class=\"ws\">            </span>rv = self.handle_user_exception(e)</pre>\n<pre class=\"line after\"><span class=\"ws\">        </span>return self.finalize_request(rv)</pre>\n<pre class=\"line after\"><span class=\"ws\"></span> </pre>\n<pre class=\"line after\"><span class=\"ws\">    </span>def finalize_request(</pre></div>\n</div>\n\n<li><div class=\"frame\" id=\"frame-140254444413472\">\n  <h4>File <cite class=\"filename\">\"/Users/aapiskotin/.conda/envs/online_learning_server/lib/python3.9/site-packages/flask/app.py\"</cite>,\n      line <em class=\"line\">1502</em>,\n      in <code class=\"function\">dispatch_request</code></h4>\n  <div class=\"source library\"><pre class=\"line before\"><span class=\"ws\">            </span>getattr(rule, &quot;provide_automatic_options&quot;, False)</pre>\n<pre class=\"line before\"><span class=\"ws\">            </span>and req.method == &quot;OPTIONS&quot;</pre>\n<pre class=\"line before\"><span class=\"ws\">        </span>):</pre>\n<pre class=\"line before\"><span class=\"ws\">            </span>return self.make_default_options_response()</pre>\n<pre class=\"line before\"><span class=\"ws\">        </span># otherwise dispatch to the handler for that endpoint</pre>\n<pre class=\"line current\"><span class=\"ws\">        </span>return self.ensure_sync(self.view_functions[rule.endpoint])(**req.view_args)</pre>\n<pre class=\"line after\"><span class=\"ws\"></span> </pre>\n<pre class=\"line after\"><span class=\"ws\">    </span>def full_dispatch_request(self) -&gt; Response:</pre>\n<pre class=\"line after\"><span class=\"ws\">        </span>&quot;&quot;&quot;Dispatches the request and on top of that performs request</pre>\n<pre class=\"line after\"><span class=\"ws\">        </span>pre and postprocessing as well as HTTP exception catching and</pre>\n<pre class=\"line after\"><span class=\"ws\">        </span>error handling.</pre></div>\n</div>\n\n<li><div class=\"frame\" id=\"frame-140254444414768\">\n  <h4>File <cite class=\"filename\">\"/Users/aapiskotin/projects/online_learning_server/app/predictor_async.py\"</cite>,\n      line <em class=\"line\">62</em>,\n      in <code class=\"function\">predict</code></h4>\n  <div class=\"source \"><pre class=\"line before\"><span class=\"ws\"></span>@app.route(&#x27;/predict&#x27;, methods=[&#x27;POST&#x27;])</pre>\n<pre class=\"line before\"><span class=\"ws\"></span>def predict():</pre>\n<pre class=\"line before\"><span class=\"ws\">    </span>data = request.get_json()</pre>\n<pre class=\"line before\"><span class=\"ws\">    </span>thread = Thread(target=update_model, args=(data,))</pre>\n<pre class=\"line before\"><span class=\"ws\">    </span>thread.start()</pre>\n<pre class=\"line current\"><span class=\"ws\">    </span>return model.predict(data[&#x27;context&#x27;])</pre>\n<pre class=\"line after\"><span class=\"ws\"></span> </pre>\n<pre class=\"line after\"><span class=\"ws\"></span> </pre>\n<pre class=\"line after\"><span class=\"ws\"></span>@app.route(&#x27;/time&#x27;, methods=[&#x27;GET&#x27;, &#x27;POST&#x27;])</pre>\n<pre class=\"line after\"><span class=\"ws\"></span>def time():</pre>\n<pre class=\"line after\"><span class=\"ws\">    </span>return str(datetime.now())</pre></div>\n</div>\n</ul>\n  <blockquote>KeyError: &#x27;context&#x27;</blockquote>\n</div>\n\n<div class=\"plain\">\n    <p>\n      This is the Copy/Paste friendly version of the traceback.\n    </p>\n    <textarea cols=\"50\" rows=\"10\" name=\"code\" readonly>Traceback (most recent call last):\n  File &quot;/Users/aapiskotin/.conda/envs/online_learning_server/lib/python3.9/site-packages/flask/app.py&quot;, line 2091, in __call__\n    return self.wsgi_app(environ, start_response)\n  File &quot;/Users/aapiskotin/.conda/envs/online_learning_server/lib/python3.9/site-packages/flask/app.py&quot;, line 2076, in wsgi_app\n    response = self.handle_exception(e)\n  File &quot;/Users/aapiskotin/.conda/envs/online_learning_server/lib/python3.9/site-packages/flask/app.py&quot;, line 2073, in wsgi_app\n    response = self.full_dispatch_request()\n  File &quot;/Users/aapiskotin/.conda/envs/online_learning_server/lib/python3.9/site-packages/flask/app.py&quot;, line 1518, in full_dispatch_request\n    rv = self.handle_user_exception(e)\n  File &quot;/Users/aapiskotin/.conda/envs/online_learning_server/lib/python3.9/site-packages/flask/app.py&quot;, line 1516, in full_dispatch_request\n    rv = self.dispatch_request()\n  File &quot;/Users/aapiskotin/.conda/envs/online_learning_server/lib/python3.9/site-packages/flask/app.py&quot;, line 1502, in dispatch_request\n    return self.ensure_sync(self.view_functions[rule.endpoint])(**req.view_args)\n  File &quot;/Users/aapiskotin/projects/online_learning_server/app/predictor_async.py&quot;, line 62, in predict\n    return model.predict(data[&#x27;context&#x27;])\nKeyError: &#x27;context&#x27;</textarea>\n</div>\n<div class=\"explanation\">\n  The debugger caught an exception in your WSGI application.  You can now\n  look at the traceback which led to the error.  <span class=\"nojavascript\">\n  If you enable JavaScript you can also use additional features such as code\n  execution (if the evalex feature is enabled), automatic pasting of the\n  exceptions and much more.</span>\n</div>\n      <div class=\"footer\">\n        Brought to you by <strong class=\"arthur\">DON'T PANIC</strong>, your\n        friendly Werkzeug powered traceback interpreter.\n      </div>\n    </div>\n\n    <div class=\"pin-prompt\">\n      <div class=\"inner\">\n        <h3>Console Locked</h3>\n        <p>\n          The console is locked and needs to be unlocked by entering the PIN.\n          You can find the PIN printed out on the standard output of your\n          shell that runs the server.\n        <form>\n          <p>PIN:\n            <input type=text name=pin size=14>\n            <input type=submit name=btn value=\"Confirm Pin\">\n        </form>\n      </div>\n    </div>\n  </body>\n</html>\n\n<!--\n\nTraceback (most recent call last):\n  File \"/Users/aapiskotin/.conda/envs/online_learning_server/lib/python3.9/site-packages/flask/app.py\", line 2091, in __call__\n    return self.wsgi_app(environ, start_response)\n  File \"/Users/aapiskotin/.conda/envs/online_learning_server/lib/python3.9/site-packages/flask/app.py\", line 2076, in wsgi_app\n    response = self.handle_exception(e)\n  File \"/Users/aapiskotin/.conda/envs/online_learning_server/lib/python3.9/site-packages/flask/app.py\", line 2073, in wsgi_app\n    response = self.full_dispatch_request()\n  File \"/Users/aapiskotin/.conda/envs/online_learning_server/lib/python3.9/site-packages/flask/app.py\", line 1518, in full_dispatch_request\n    rv = self.handle_user_exception(e)\n  File \"/Users/aapiskotin/.conda/envs/online_learning_server/lib/python3.9/site-packages/flask/app.py\", line 1516, in full_dispatch_request\n    rv = self.dispatch_request()\n  File \"/Users/aapiskotin/.conda/envs/online_learning_server/lib/python3.9/site-packages/flask/app.py\", line 1502, in dispatch_request\n    return self.ensure_sync(self.view_functions[rule.endpoint])(**req.view_args)\n  File \"/Users/aapiskotin/projects/online_learning_server/app/predictor_async.py\", line 62, in predict\n    return model.predict(data['context'])\nKeyError: 'context'\n\n-->\n: 0",
     "output_type": "error",
     "traceback": [
      "\u001B[0;31m---------------------------------------------------------------------------\u001B[0m",
      "\u001B[0;31mJSONDecodeError\u001B[0m                           Traceback (most recent call last)",
      "File \u001B[0;32m~/.conda/envs/online_learning_server/lib/python3.9/site-packages/requests/models.py:910\u001B[0m, in \u001B[0;36mResponse.json\u001B[0;34m(self, **kwargs)\u001B[0m\n\u001B[1;32m    909\u001B[0m \u001B[38;5;28;01mtry\u001B[39;00m:\n\u001B[0;32m--> 910\u001B[0m     \u001B[38;5;28;01mreturn\u001B[39;00m \u001B[43mcomplexjson\u001B[49m\u001B[38;5;241;43m.\u001B[39;49m\u001B[43mloads\u001B[49m\u001B[43m(\u001B[49m\u001B[38;5;28;43mself\u001B[39;49m\u001B[38;5;241;43m.\u001B[39;49m\u001B[43mtext\u001B[49m\u001B[43m,\u001B[49m\u001B[43m \u001B[49m\u001B[38;5;241;43m*\u001B[39;49m\u001B[38;5;241;43m*\u001B[39;49m\u001B[43mkwargs\u001B[49m\u001B[43m)\u001B[49m\n\u001B[1;32m    911\u001B[0m \u001B[38;5;28;01mexcept\u001B[39;00m JSONDecodeError \u001B[38;5;28;01mas\u001B[39;00m e:\n\u001B[1;32m    912\u001B[0m     \u001B[38;5;66;03m# Catch JSON-related errors and raise as requests.JSONDecodeError\u001B[39;00m\n\u001B[1;32m    913\u001B[0m     \u001B[38;5;66;03m# This aliases json.JSONDecodeError and simplejson.JSONDecodeError\u001B[39;00m\n",
      "File \u001B[0;32m~/.conda/envs/online_learning_server/lib/python3.9/json/__init__.py:346\u001B[0m, in \u001B[0;36mloads\u001B[0;34m(s, cls, object_hook, parse_float, parse_int, parse_constant, object_pairs_hook, **kw)\u001B[0m\n\u001B[1;32m    343\u001B[0m \u001B[38;5;28;01mif\u001B[39;00m (\u001B[38;5;28mcls\u001B[39m \u001B[38;5;129;01mis\u001B[39;00m \u001B[38;5;28;01mNone\u001B[39;00m \u001B[38;5;129;01mand\u001B[39;00m object_hook \u001B[38;5;129;01mis\u001B[39;00m \u001B[38;5;28;01mNone\u001B[39;00m \u001B[38;5;129;01mand\u001B[39;00m\n\u001B[1;32m    344\u001B[0m         parse_int \u001B[38;5;129;01mis\u001B[39;00m \u001B[38;5;28;01mNone\u001B[39;00m \u001B[38;5;129;01mand\u001B[39;00m parse_float \u001B[38;5;129;01mis\u001B[39;00m \u001B[38;5;28;01mNone\u001B[39;00m \u001B[38;5;129;01mand\u001B[39;00m\n\u001B[1;32m    345\u001B[0m         parse_constant \u001B[38;5;129;01mis\u001B[39;00m \u001B[38;5;28;01mNone\u001B[39;00m \u001B[38;5;129;01mand\u001B[39;00m object_pairs_hook \u001B[38;5;129;01mis\u001B[39;00m \u001B[38;5;28;01mNone\u001B[39;00m \u001B[38;5;129;01mand\u001B[39;00m \u001B[38;5;129;01mnot\u001B[39;00m kw):\n\u001B[0;32m--> 346\u001B[0m     \u001B[38;5;28;01mreturn\u001B[39;00m \u001B[43m_default_decoder\u001B[49m\u001B[38;5;241;43m.\u001B[39;49m\u001B[43mdecode\u001B[49m\u001B[43m(\u001B[49m\u001B[43ms\u001B[49m\u001B[43m)\u001B[49m\n\u001B[1;32m    347\u001B[0m \u001B[38;5;28;01mif\u001B[39;00m \u001B[38;5;28mcls\u001B[39m \u001B[38;5;129;01mis\u001B[39;00m \u001B[38;5;28;01mNone\u001B[39;00m:\n",
      "File \u001B[0;32m~/.conda/envs/online_learning_server/lib/python3.9/json/decoder.py:337\u001B[0m, in \u001B[0;36mJSONDecoder.decode\u001B[0;34m(self, s, _w)\u001B[0m\n\u001B[1;32m    333\u001B[0m \u001B[38;5;124;03m\"\"\"Return the Python representation of ``s`` (a ``str`` instance\u001B[39;00m\n\u001B[1;32m    334\u001B[0m \u001B[38;5;124;03mcontaining a JSON document).\u001B[39;00m\n\u001B[1;32m    335\u001B[0m \n\u001B[1;32m    336\u001B[0m \u001B[38;5;124;03m\"\"\"\u001B[39;00m\n\u001B[0;32m--> 337\u001B[0m obj, end \u001B[38;5;241m=\u001B[39m \u001B[38;5;28;43mself\u001B[39;49m\u001B[38;5;241;43m.\u001B[39;49m\u001B[43mraw_decode\u001B[49m\u001B[43m(\u001B[49m\u001B[43ms\u001B[49m\u001B[43m,\u001B[49m\u001B[43m \u001B[49m\u001B[43midx\u001B[49m\u001B[38;5;241;43m=\u001B[39;49m\u001B[43m_w\u001B[49m\u001B[43m(\u001B[49m\u001B[43ms\u001B[49m\u001B[43m,\u001B[49m\u001B[43m \u001B[49m\u001B[38;5;241;43m0\u001B[39;49m\u001B[43m)\u001B[49m\u001B[38;5;241;43m.\u001B[39;49m\u001B[43mend\u001B[49m\u001B[43m(\u001B[49m\u001B[43m)\u001B[49m\u001B[43m)\u001B[49m\n\u001B[1;32m    338\u001B[0m end \u001B[38;5;241m=\u001B[39m _w(s, end)\u001B[38;5;241m.\u001B[39mend()\n",
      "File \u001B[0;32m~/.conda/envs/online_learning_server/lib/python3.9/json/decoder.py:355\u001B[0m, in \u001B[0;36mJSONDecoder.raw_decode\u001B[0;34m(self, s, idx)\u001B[0m\n\u001B[1;32m    354\u001B[0m \u001B[38;5;28;01mexcept\u001B[39;00m \u001B[38;5;167;01mStopIteration\u001B[39;00m \u001B[38;5;28;01mas\u001B[39;00m err:\n\u001B[0;32m--> 355\u001B[0m     \u001B[38;5;28;01mraise\u001B[39;00m JSONDecodeError(\u001B[38;5;124m\"\u001B[39m\u001B[38;5;124mExpecting value\u001B[39m\u001B[38;5;124m\"\u001B[39m, s, err\u001B[38;5;241m.\u001B[39mvalue) \u001B[38;5;28;01mfrom\u001B[39;00m \u001B[38;5;28mNone\u001B[39m\n\u001B[1;32m    356\u001B[0m \u001B[38;5;28;01mreturn\u001B[39;00m obj, end\n",
      "\u001B[0;31mJSONDecodeError\u001B[0m: Expecting value: line 1 column 1 (char 0)",
      "\nDuring handling of the above exception, another exception occurred:\n",
      "\u001B[0;31mJSONDecodeError\u001B[0m                           Traceback (most recent call last)",
      "Input \u001B[0;32mIn [154]\u001B[0m, in \u001B[0;36m<cell line: 4>\u001B[0;34m()\u001B[0m\n\u001B[1;32m      5\u001B[0m context \u001B[38;5;241m=\u001B[39m make_context(\n\u001B[1;32m      6\u001B[0m     room\u001B[38;5;241m=\u001B[39mrandom\u001B[38;5;241m.\u001B[39mchoice([\u001B[38;5;124m\"\u001B[39m\u001B[38;5;124mLiving Room\u001B[39m\u001B[38;5;124m\"\u001B[39m, \u001B[38;5;124m\"\u001B[39m\u001B[38;5;124mBedroom\u001B[39m\u001B[38;5;124m\"\u001B[39m]),\n\u001B[1;32m      7\u001B[0m     time_of_day\u001B[38;5;241m=\u001B[39mrandom\u001B[38;5;241m.\u001B[39mchoice([\u001B[38;5;124m\"\u001B[39m\u001B[38;5;124mmorning\u001B[39m\u001B[38;5;124m\"\u001B[39m, \u001B[38;5;124m\"\u001B[39m\u001B[38;5;124mafternoon\u001B[39m\u001B[38;5;124m\"\u001B[39m]),\n\u001B[1;32m      8\u001B[0m )\n\u001B[1;32m      9\u001B[0m prediction_start \u001B[38;5;241m=\u001B[39m datetime\u001B[38;5;241m.\u001B[39mnow()\n\u001B[0;32m---> 10\u001B[0m prediction \u001B[38;5;241m=\u001B[39m \u001B[43mr\u001B[49m\u001B[38;5;241;43m.\u001B[39;49m\u001B[43mpost\u001B[49m\u001B[43m(\u001B[49m\n\u001B[1;32m     11\u001B[0m \u001B[43m    \u001B[49m\u001B[43mhost\u001B[49m\u001B[38;5;241;43m+\u001B[39;49m\u001B[38;5;124;43m'\u001B[39;49m\u001B[38;5;124;43m/predict\u001B[39;49m\u001B[38;5;124;43m'\u001B[39;49m\u001B[43m,\u001B[49m\n\u001B[1;32m     12\u001B[0m \u001B[43m    \u001B[49m\u001B[43mjson\u001B[49m\u001B[38;5;241;43m=\u001B[39;49m\u001B[43mcontext\u001B[49m\u001B[43m,\u001B[49m\n\u001B[1;32m     13\u001B[0m \u001B[43m\u001B[49m\u001B[43m)\u001B[49m\u001B[38;5;241;43m.\u001B[39;49m\u001B[43mjson\u001B[49m\u001B[43m(\u001B[49m\u001B[43m)\u001B[49m\n\u001B[1;32m     14\u001B[0m pred_times\u001B[38;5;241m.\u001B[39mappend(datetime\u001B[38;5;241m.\u001B[39mnow() \u001B[38;5;241m-\u001B[39m prediction_start)\n\u001B[1;32m     16\u001B[0m cost \u001B[38;5;241m=\u001B[39m get_cost(context, prediction[\u001B[38;5;124m'\u001B[39m\u001B[38;5;124maction\u001B[39m\u001B[38;5;124m'\u001B[39m])\n",
      "File \u001B[0;32m~/.conda/envs/online_learning_server/lib/python3.9/site-packages/requests/models.py:917\u001B[0m, in \u001B[0;36mResponse.json\u001B[0;34m(self, **kwargs)\u001B[0m\n\u001B[1;32m    915\u001B[0m     \u001B[38;5;28;01mraise\u001B[39;00m RequestsJSONDecodeError(e\u001B[38;5;241m.\u001B[39mmessage)\n\u001B[1;32m    916\u001B[0m \u001B[38;5;28;01melse\u001B[39;00m:\n\u001B[0;32m--> 917\u001B[0m     \u001B[38;5;28;01mraise\u001B[39;00m RequestsJSONDecodeError(e\u001B[38;5;241m.\u001B[39mmsg, e\u001B[38;5;241m.\u001B[39mdoc, e\u001B[38;5;241m.\u001B[39mpos)\n",
      "\u001B[0;31mJSONDecodeError\u001B[0m: [Errno Expecting value] <!DOCTYPE HTML PUBLIC \"-//W3C//DTD HTML 4.01 Transitional//EN\"\n  \"http://www.w3.org/TR/html4/loose.dtd\">\n<html>\n  <head>\n    <title>KeyError: &#x27;context&#x27; // Werkzeug Debugger</title>\n    <link rel=\"stylesheet\" href=\"?__debugger__=yes&amp;cmd=resource&amp;f=style.css\"\n        type=\"text/css\">\n    <!-- We need to make sure this has a favicon so that the debugger does\n         not accidentally trigger a request to /favicon.ico which might\n         change the application's state. -->\n    <link rel=\"shortcut icon\"\n        href=\"?__debugger__=yes&amp;cmd=resource&amp;f=console.png\">\n    <script src=\"?__debugger__=yes&amp;cmd=resource&amp;f=debugger.js\"></script>\n    <script type=\"text/javascript\">\n      var TRACEBACK = 140254444414624,\n          CONSOLE_MODE = false,\n          EVALEX = true,\n          EVALEX_TRUSTED = false,\n          SECRET = \"QlsB2NZb7SFsKHLm3B1y\";\n    </script>\n  </head>\n  <body style=\"background-color: #fff\">\n    <div class=\"debugger\">\n<h1>KeyError</h1>\n<div class=\"detail\">\n  <p class=\"errormsg\">KeyError: &#x27;context&#x27;</p>\n</div>\n<h2 class=\"traceback\">Traceback <em>(most recent call last)</em></h2>\n<div class=\"traceback\">\n  <h3></h3>\n  <ul><li><div class=\"frame\" id=\"frame-140254444413280\">\n  <h4>File <cite class=\"filename\">\"/Users/aapiskotin/.conda/envs/online_learning_server/lib/python3.9/site-packages/flask/app.py\"</cite>,\n      line <em class=\"line\">2091</em>,\n      in <code class=\"function\">__call__</code></h4>\n  <div class=\"source library\"><pre class=\"line before\"><span class=\"ws\">    </span>def __call__(self, environ: dict, start_response: t.Callable) -&gt; t.Any:</pre>\n<pre class=\"line before\"><span class=\"ws\">        </span>&quot;&quot;&quot;The WSGI server calls the Flask application object as the</pre>\n<pre class=\"line before\"><span class=\"ws\">        </span>WSGI application. This calls :meth:`wsgi_app`, which can be</pre>\n<pre class=\"line before\"><span class=\"ws\">        </span>wrapped to apply middleware.</pre>\n<pre class=\"line before\"><span class=\"ws\">        </span>&quot;&quot;&quot;</pre>\n<pre class=\"line current\"><span class=\"ws\">        </span>return self.wsgi_app(environ, start_response)</pre></div>\n</div>\n\n<li><div class=\"frame\" id=\"frame-140254444413328\">\n  <h4>File <cite class=\"filename\">\"/Users/aapiskotin/.conda/envs/online_learning_server/lib/python3.9/site-packages/flask/app.py\"</cite>,\n      line <em class=\"line\">2076</em>,\n      in <code class=\"function\">wsgi_app</code></h4>\n  <div class=\"source library\"><pre class=\"line before\"><span class=\"ws\">            </span>try:</pre>\n<pre class=\"line before\"><span class=\"ws\">                </span>ctx.push()</pre>\n<pre class=\"line before\"><span class=\"ws\">                </span>response = self.full_dispatch_request()</pre>\n<pre class=\"line before\"><span class=\"ws\">            </span>except Exception as e:</pre>\n<pre class=\"line before\"><span class=\"ws\">                </span>error = e</pre>\n<pre class=\"line current\"><span class=\"ws\">                </span>response = self.handle_exception(e)</pre>\n<pre class=\"line after\"><span class=\"ws\">            </span>except:  # noqa: B001</pre>\n<pre class=\"line after\"><span class=\"ws\">                </span>error = sys.exc_info()[1]</pre>\n<pre class=\"line after\"><span class=\"ws\">                </span>raise</pre>\n<pre class=\"line after\"><span class=\"ws\">            </span>return response(environ, start_response)</pre>\n<pre class=\"line after\"><span class=\"ws\">        </span>finally:</pre></div>\n</div>\n\n<li><div class=\"frame\" id=\"frame-140254444413424\">\n  <h4>File <cite class=\"filename\">\"/Users/aapiskotin/.conda/envs/online_learning_server/lib/python3.9/site-packages/flask/app.py\"</cite>,\n      line <em class=\"line\">2073</em>,\n      in <code class=\"function\">wsgi_app</code></h4>\n  <div class=\"source library\"><pre class=\"line before\"><span class=\"ws\">        </span>ctx = self.request_context(environ)</pre>\n<pre class=\"line before\"><span class=\"ws\">        </span>error: t.Optional[BaseException] = None</pre>\n<pre class=\"line before\"><span class=\"ws\">        </span>try:</pre>\n<pre class=\"line before\"><span class=\"ws\">            </span>try:</pre>\n<pre class=\"line before\"><span class=\"ws\">                </span>ctx.push()</pre>\n<pre class=\"line current\"><span class=\"ws\">                </span>response = self.full_dispatch_request()</pre>\n<pre class=\"line after\"><span class=\"ws\">            </span>except Exception as e:</pre>\n<pre class=\"line after\"><span class=\"ws\">                </span>error = e</pre>\n<pre class=\"line after\"><span class=\"ws\">                </span>response = self.handle_exception(e)</pre>\n<pre class=\"line after\"><span class=\"ws\">            </span>except:  # noqa: B001</pre>\n<pre class=\"line after\"><span class=\"ws\">                </span>error = sys.exc_info()[1]</pre></div>\n</div>\n\n<li><div class=\"frame\" id=\"frame-140254444412992\">\n  <h4>File <cite class=\"filename\">\"/Users/aapiskotin/.conda/envs/online_learning_server/lib/python3.9/site-packages/flask/app.py\"</cite>,\n      line <em class=\"line\">1518</em>,\n      in <code class=\"function\">full_dispatch_request</code></h4>\n  <div class=\"source library\"><pre class=\"line before\"><span class=\"ws\">            </span>request_started.send(self)</pre>\n<pre class=\"line before\"><span class=\"ws\">            </span>rv = self.preprocess_request()</pre>\n<pre class=\"line before\"><span class=\"ws\">            </span>if rv is None:</pre>\n<pre class=\"line before\"><span class=\"ws\">                </span>rv = self.dispatch_request()</pre>\n<pre class=\"line before\"><span class=\"ws\">        </span>except Exception as e:</pre>\n<pre class=\"line current\"><span class=\"ws\">            </span>rv = self.handle_user_exception(e)</pre>\n<pre class=\"line after\"><span class=\"ws\">        </span>return self.finalize_request(rv)</pre>\n<pre class=\"line after\"><span class=\"ws\"></span> </pre>\n<pre class=\"line after\"><span class=\"ws\">    </span>def finalize_request(</pre>\n<pre class=\"line after\"><span class=\"ws\">        </span>self,</pre>\n<pre class=\"line after\"><span class=\"ws\">        </span>rv: t.Union[ResponseReturnValue, HTTPException],</pre></div>\n</div>\n\n<li><div class=\"frame\" id=\"frame-140254444413568\">\n  <h4>File <cite class=\"filename\">\"/Users/aapiskotin/.conda/envs/online_learning_server/lib/python3.9/site-packages/flask/app.py\"</cite>,\n      line <em class=\"line\">1516</em>,\n      in <code class=\"function\">full_dispatch_request</code></h4>\n  <div class=\"source library\"><pre class=\"line before\"><span class=\"ws\">        </span>self.try_trigger_before_first_request_functions()</pre>\n<pre class=\"line before\"><span class=\"ws\">        </span>try:</pre>\n<pre class=\"line before\"><span class=\"ws\">            </span>request_started.send(self)</pre>\n<pre class=\"line before\"><span class=\"ws\">            </span>rv = self.preprocess_request()</pre>\n<pre class=\"line before\"><span class=\"ws\">            </span>if rv is None:</pre>\n<pre class=\"line current\"><span class=\"ws\">                </span>rv = self.dispatch_request()</pre>\n<pre class=\"line after\"><span class=\"ws\">        </span>except Exception as e:</pre>\n<pre class=\"line after\"><span class=\"ws\">            </span>rv = self.handle_user_exception(e)</pre>\n<pre class=\"line after\"><span class=\"ws\">        </span>return self.finalize_request(rv)</pre>\n<pre class=\"line after\"><span class=\"ws\"></span> </pre>\n<pre class=\"line after\"><span class=\"ws\">    </span>def finalize_request(</pre></div>\n</div>\n\n<li><div class=\"frame\" id=\"frame-140254444413472\">\n  <h4>File <cite class=\"filename\">\"/Users/aapiskotin/.conda/envs/online_learning_server/lib/python3.9/site-packages/flask/app.py\"</cite>,\n      line <em class=\"line\">1502</em>,\n      in <code class=\"function\">dispatch_request</code></h4>\n  <div class=\"source library\"><pre class=\"line before\"><span class=\"ws\">            </span>getattr(rule, &quot;provide_automatic_options&quot;, False)</pre>\n<pre class=\"line before\"><span class=\"ws\">            </span>and req.method == &quot;OPTIONS&quot;</pre>\n<pre class=\"line before\"><span class=\"ws\">        </span>):</pre>\n<pre class=\"line before\"><span class=\"ws\">            </span>return self.make_default_options_response()</pre>\n<pre class=\"line before\"><span class=\"ws\">        </span># otherwise dispatch to the handler for that endpoint</pre>\n<pre class=\"line current\"><span class=\"ws\">        </span>return self.ensure_sync(self.view_functions[rule.endpoint])(**req.view_args)</pre>\n<pre class=\"line after\"><span class=\"ws\"></span> </pre>\n<pre class=\"line after\"><span class=\"ws\">    </span>def full_dispatch_request(self) -&gt; Response:</pre>\n<pre class=\"line after\"><span class=\"ws\">        </span>&quot;&quot;&quot;Dispatches the request and on top of that performs request</pre>\n<pre class=\"line after\"><span class=\"ws\">        </span>pre and postprocessing as well as HTTP exception catching and</pre>\n<pre class=\"line after\"><span class=\"ws\">        </span>error handling.</pre></div>\n</div>\n\n<li><div class=\"frame\" id=\"frame-140254444414768\">\n  <h4>File <cite class=\"filename\">\"/Users/aapiskotin/projects/online_learning_server/app/predictor_async.py\"</cite>,\n      line <em class=\"line\">62</em>,\n      in <code class=\"function\">predict</code></h4>\n  <div class=\"source \"><pre class=\"line before\"><span class=\"ws\"></span>@app.route(&#x27;/predict&#x27;, methods=[&#x27;POST&#x27;])</pre>\n<pre class=\"line before\"><span class=\"ws\"></span>def predict():</pre>\n<pre class=\"line before\"><span class=\"ws\">    </span>data = request.get_json()</pre>\n<pre class=\"line before\"><span class=\"ws\">    </span>thread = Thread(target=update_model, args=(data,))</pre>\n<pre class=\"line before\"><span class=\"ws\">    </span>thread.start()</pre>\n<pre class=\"line current\"><span class=\"ws\">    </span>return model.predict(data[&#x27;context&#x27;])</pre>\n<pre class=\"line after\"><span class=\"ws\"></span> </pre>\n<pre class=\"line after\"><span class=\"ws\"></span> </pre>\n<pre class=\"line after\"><span class=\"ws\"></span>@app.route(&#x27;/time&#x27;, methods=[&#x27;GET&#x27;, &#x27;POST&#x27;])</pre>\n<pre class=\"line after\"><span class=\"ws\"></span>def time():</pre>\n<pre class=\"line after\"><span class=\"ws\">    </span>return str(datetime.now())</pre></div>\n</div>\n</ul>\n  <blockquote>KeyError: &#x27;context&#x27;</blockquote>\n</div>\n\n<div class=\"plain\">\n    <p>\n      This is the Copy/Paste friendly version of the traceback.\n    </p>\n    <textarea cols=\"50\" rows=\"10\" name=\"code\" readonly>Traceback (most recent call last):\n  File &quot;/Users/aapiskotin/.conda/envs/online_learning_server/lib/python3.9/site-packages/flask/app.py&quot;, line 2091, in __call__\n    return self.wsgi_app(environ, start_response)\n  File &quot;/Users/aapiskotin/.conda/envs/online_learning_server/lib/python3.9/site-packages/flask/app.py&quot;, line 2076, in wsgi_app\n    response = self.handle_exception(e)\n  File &quot;/Users/aapiskotin/.conda/envs/online_learning_server/lib/python3.9/site-packages/flask/app.py&quot;, line 2073, in wsgi_app\n    response = self.full_dispatch_request()\n  File &quot;/Users/aapiskotin/.conda/envs/online_learning_server/lib/python3.9/site-packages/flask/app.py&quot;, line 1518, in full_dispatch_request\n    rv = self.handle_user_exception(e)\n  File &quot;/Users/aapiskotin/.conda/envs/online_learning_server/lib/python3.9/site-packages/flask/app.py&quot;, line 1516, in full_dispatch_request\n    rv = self.dispatch_request()\n  File &quot;/Users/aapiskotin/.conda/envs/online_learning_server/lib/python3.9/site-packages/flask/app.py&quot;, line 1502, in dispatch_request\n    return self.ensure_sync(self.view_functions[rule.endpoint])(**req.view_args)\n  File &quot;/Users/aapiskotin/projects/online_learning_server/app/predictor_async.py&quot;, line 62, in predict\n    return model.predict(data[&#x27;context&#x27;])\nKeyError: &#x27;context&#x27;</textarea>\n</div>\n<div class=\"explanation\">\n  The debugger caught an exception in your WSGI application.  You can now\n  look at the traceback which led to the error.  <span class=\"nojavascript\">\n  If you enable JavaScript you can also use additional features such as code\n  execution (if the evalex feature is enabled), automatic pasting of the\n  exceptions and much more.</span>\n</div>\n      <div class=\"footer\">\n        Brought to you by <strong class=\"arthur\">DON'T PANIC</strong>, your\n        friendly Werkzeug powered traceback interpreter.\n      </div>\n    </div>\n\n    <div class=\"pin-prompt\">\n      <div class=\"inner\">\n        <h3>Console Locked</h3>\n        <p>\n          The console is locked and needs to be unlocked by entering the PIN.\n          You can find the PIN printed out on the standard output of your\n          shell that runs the server.\n        <form>\n          <p>PIN:\n            <input type=text name=pin size=14>\n            <input type=submit name=btn value=\"Confirm Pin\">\n        </form>\n      </div>\n    </div>\n  </body>\n</html>\n\n<!--\n\nTraceback (most recent call last):\n  File \"/Users/aapiskotin/.conda/envs/online_learning_server/lib/python3.9/site-packages/flask/app.py\", line 2091, in __call__\n    return self.wsgi_app(environ, start_response)\n  File \"/Users/aapiskotin/.conda/envs/online_learning_server/lib/python3.9/site-packages/flask/app.py\", line 2076, in wsgi_app\n    response = self.handle_exception(e)\n  File \"/Users/aapiskotin/.conda/envs/online_learning_server/lib/python3.9/site-packages/flask/app.py\", line 2073, in wsgi_app\n    response = self.full_dispatch_request()\n  File \"/Users/aapiskotin/.conda/envs/online_learning_server/lib/python3.9/site-packages/flask/app.py\", line 1518, in full_dispatch_request\n    rv = self.handle_user_exception(e)\n  File \"/Users/aapiskotin/.conda/envs/online_learning_server/lib/python3.9/site-packages/flask/app.py\", line 1516, in full_dispatch_request\n    rv = self.dispatch_request()\n  File \"/Users/aapiskotin/.conda/envs/online_learning_server/lib/python3.9/site-packages/flask/app.py\", line 1502, in dispatch_request\n    return self.ensure_sync(self.view_functions[rule.endpoint])(**req.view_args)\n  File \"/Users/aapiskotin/projects/online_learning_server/app/predictor_async.py\", line 62, in predict\n    return model.predict(data['context'])\nKeyError: 'context'\n\n-->\n: 0"
     ]
    }
   ],
   "source": [
    "rewards = []\n",
    "pred_times = []\n",
    "update_times = []\n",
    "for _ in tqdm(range(10_000)):\n",
    "    context = make_context(\n",
    "        room=random.choice([\"Living Room\", \"Bedroom\"]),\n",
    "        time_of_day=random.choice([\"morning\", \"afternoon\"]),\n",
    "    )\n",
    "    prediction_start = datetime.now()\n",
    "    prediction = r.post(\n",
    "        host+'/predict',\n",
    "        json=context,\n",
    "    ).json()\n",
    "    pred_times.append(datetime.now() - prediction_start)\n",
    "\n",
    "    cost = get_cost(context, prediction['action'])\n",
    "\n",
    "    update_start = datetime.now()\n",
    "    r.post(\n",
    "        host+'/update',\n",
    "        json={\n",
    "            'context': context,\n",
    "            'label': make_label(\n",
    "                prediction['action'],\n",
    "                cost,\n",
    "                prediction['pdf_value'],\n",
    "            ),\n",
    "        }\n",
    "    )\n",
    "    update_times.append(datetime.now() - update_start)\n",
    "\n",
    "    rewards.append(-cost)"
   ],
   "metadata": {
    "collapsed": false,
    "pycharm": {
     "name": "#%%\n"
    }
   }
  },
  {
   "cell_type": "code",
   "execution_count": 58,
   "outputs": [],
   "source": [
    "mean_rewards = [\n",
    "    sum(rewards[i:i+100])/100\n",
    "    for i in range(0, len(rewards), 100)\n",
    "]"
   ],
   "metadata": {
    "collapsed": false,
    "pycharm": {
     "name": "#%%\n"
    }
   }
  },
  {
   "cell_type": "code",
   "execution_count": 59,
   "outputs": [
    {
     "data": {
      "text/plain": "<matplotlib.lines.Line2D at 0x7fa06b5e60a0>"
     },
     "execution_count": 59,
     "metadata": {},
     "output_type": "execute_result"
    },
    {
     "data": {
      "text/plain": "<Figure size 432x288 with 1 Axes>",
      "image/png": "[encoded data removed]"
     },
     "metadata": {
      "needs_background": "light"
     },
     "output_type": "display_data"
    }
   ],
   "source": [
    "plt.plot(mean_rewards)\n",
    "plt.ylim(0, 1)\n",
    "plt.axhline(0.9, color='r', ls='--')"
   ],
   "metadata": {
    "collapsed": false,
    "pycharm": {
     "name": "#%%\n"
    }
   }
  },
  {
   "cell_type": "code",
   "execution_count": 60,
   "outputs": [
    {
     "data": {
      "text/plain": "[<matplotlib.lines.Line2D at 0x7fa06b52f0a0>]"
     },
     "execution_count": 60,
     "metadata": {},
     "output_type": "execute_result"
    },
    {
     "data": {
      "text/plain": "<Figure size 432x288 with 1 Axes>",
      "image/png": "[encoded data removed]"
     },
     "metadata": {
      "needs_background": "light"
     },
     "output_type": "display_data"
    }
   ],
   "source": [
    "plt.plot([td.total_seconds() for td in pred_times])\n",
    "plt.plot([td.total_seconds() for td in update_times])"
   ],
   "metadata": {
    "collapsed": false,
    "pycharm": {
     "name": "#%%\n"
    }
   }
  },
  {
   "cell_type": "code",
   "execution_count": 61,
   "outputs": [
    {
     "data": {
      "text/plain": "count    10000.000000\nmean         0.002571\nstd          0.001943\nmin          0.001452\n1%           0.001543\n5%           0.001598\n10%          0.001640\n25%          0.001744\n50%          0.002313\n75%          0.002916\n90%          0.003677\n95%          0.004270\n99%          0.006583\nmax          0.081735\ndtype: float64"
     },
     "execution_count": 61,
     "metadata": {},
     "output_type": "execute_result"
    }
   ],
   "source": [
    "pd.Series(\n",
    "    [\n",
    "        td.total_seconds()\n",
    "        for td in pred_times\n",
    "    ]\n",
    ").describe(\n",
    "    percentiles=[0.01, 0.05, 0.1, 0.25, 0.5, 0.75, 0.9, 0.95, 0.99],\n",
    ")"
   ],
   "metadata": {
    "collapsed": false,
    "pycharm": {
     "name": "#%%\n"
    }
   }
  },
  {
   "cell_type": "code",
   "execution_count": 62,
   "outputs": [
    {
     "data": {
      "text/plain": "count    10000.000000\nmean         0.002601\nstd          0.003189\nmin          0.001456\n1%           0.001532\n5%           0.001593\n10%          0.001634\n25%          0.001738\n50%          0.002286\n75%          0.002869\n90%          0.003628\n95%          0.004208\n99%          0.006561\nmax          0.191177\ndtype: float64"
     },
     "execution_count": 62,
     "metadata": {},
     "output_type": "execute_result"
    }
   ],
   "source": [
    "pd.Series(\n",
    "    [\n",
    "        td.total_seconds()\n",
    "        for td in update_times\n",
    "    ]\n",
    ").describe(\n",
    "    percentiles=[0.01, 0.05, 0.1, 0.25, 0.5, 0.75, 0.9, 0.95, 0.99],\n",
    ")"
   ],
   "metadata": {
    "collapsed": false,
    "pycharm": {
     "name": "#%%\n"
    }
   }
  },
  {
   "cell_type": "markdown",
   "source": [
    "# Run async simulation"
   ],
   "metadata": {
    "collapsed": false,
    "pycharm": {
     "name": "#%% md\n"
    }
   }
  },
  {
   "cell_type": "code",
   "execution_count": 177,
   "outputs": [],
   "source": [
    "host = 'http://192.168.1.3:228'"
   ],
   "metadata": {
    "collapsed": false,
    "pycharm": {
     "name": "#%%\n"
    }
   }
  },
  {
   "cell_type": "code",
   "execution_count": 193,
   "outputs": [
    {
     "data": {
      "text/plain": "{'action': 0.002403499558568001, 'pdf_value': 0.0031250000465661287}"
     },
     "execution_count": 193,
     "metadata": {},
     "output_type": "execute_result"
    }
   ],
   "source": [
    "r.post(\n",
    "    host+'/predict',\n",
    "    json={\n",
    "        'id': -1,\n",
    "        'context': make_context('Living Room', 'morning'),\n",
    "    },\n",
    ").json()"
   ],
   "metadata": {
    "collapsed": false,
    "pycharm": {
     "name": "#%%\n"
    }
   }
  },
  {
   "cell_type": "code",
   "execution_count": 312,
   "outputs": [
    {
     "data": {
      "text/plain": "  0%|          | 0/2000 [00:00<?, ?it/s]",
      "application/vnd.jupyter.widget-view+json": {
       "version_major": 2,
       "version_minor": 0,
       "model_id": "5fd767ce3b4147d6b94c83f2b09dc1a1"
      }
     },
     "metadata": {},
     "output_type": "display_data"
    }
   ],
   "source": [
    "rewards = []\n",
    "pred_times = []\n",
    "update_times = []\n",
    "for i in tqdm(range(2_000)):\n",
    "    context = make_context(\n",
    "        room=random.choice([\"Living Room\", \"Bedroom\"]),\n",
    "        time_of_day=random.choice([\"morning\", \"afternoon\"]),\n",
    "    )\n",
    "    prediction_start = datetime.now()\n",
    "    prediction = r.post(\n",
    "        host+'/predict',\n",
    "        json={\n",
    "            'id': i,\n",
    "            'context': context,\n",
    "        },\n",
    "    ).json()\n",
    "    pred_times.append(datetime.now() - prediction_start)\n",
    "\n",
    "    cost = get_cost(context, prediction['action'])\n",
    "\n",
    "    with dbm.open(str(data_path.joinpath('labels')), 'c') as labels_db:\n",
    "        labels_db[str(i)] = ujson.dumps(\n",
    "            make_label(\n",
    "                    prediction['action'],\n",
    "                    cost,\n",
    "                    prediction['pdf_value'],\n",
    "            ),\n",
    "        )\n",
    "\n",
    "    rewards.append(-cost)\n",
    "\n",
    "    r.post(host+'/save')"
   ],
   "metadata": {
    "collapsed": false,
    "pycharm": {
     "name": "#%%\n"
    }
   }
  },
  {
   "cell_type": "code",
   "execution_count": 313,
   "outputs": [],
   "source": [
    "mean_rewards = [\n",
    "    sum(rewards[i:i+100])/100\n",
    "    for i in range(0, len(rewards), 100)\n",
    "]"
   ],
   "metadata": {
    "collapsed": false,
    "pycharm": {
     "name": "#%%\n"
    }
   }
  },
  {
   "cell_type": "code",
   "execution_count": 314,
   "outputs": [
    {
     "data": {
      "text/plain": "<matplotlib.lines.Line2D at 0x7fa07d8485b0>"
     },
     "execution_count": 314,
     "metadata": {},
     "output_type": "execute_result"
    },
    {
     "data": {
      "text/plain": "<Figure size 432x288 with 1 Axes>",
      "image/png": "[encoded data removed]"
     },
     "metadata": {
      "needs_background": "light"
     },
     "output_type": "display_data"
    }
   ],
   "source": [
    "plt.plot(mean_rewards)\n",
    "plt.ylim(0, 1)\n",
    "plt.axhline(0.9, color='r', ls='--')"
   ],
   "metadata": {
    "collapsed": false,
    "pycharm": {
     "name": "#%%\n"
    }
   }
  },
  {
   "cell_type": "code",
   "execution_count": 135,
   "outputs": [
    {
     "data": {
      "text/plain": "<matplotlib.lines.Line2D at 0x7fa05d8aae50>"
     },
     "execution_count": 135,
     "metadata": {},
     "output_type": "execute_result"
    },
    {
     "data": {
      "text/plain": "<Figure size 432x288 with 1 Axes>",
      "image/png": "[encoded data removed]"
     },
     "metadata": {
      "needs_background": "light"
     },
     "output_type": "display_data"
    }
   ],
   "source": [
    "plt.plot(mean_rewards)\n",
    "plt.ylim(0, 1)\n",
    "plt.axhline(0.9, color='r', ls='--')"
   ],
   "metadata": {
    "collapsed": false,
    "pycharm": {
     "name": "#%%\n"
    }
   }
  },
  {
   "cell_type": "code",
   "execution_count": 147,
   "outputs": [
    {
     "data": {
      "text/plain": "[<matplotlib.lines.Line2D at 0x7fa02836e7c0>]"
     },
     "execution_count": 147,
     "metadata": {},
     "output_type": "execute_result"
    },
    {
     "data": {
      "text/plain": "<Figure size 432x288 with 1 Axes>",
      "image/png": "[encoded data removed]"
     },
     "metadata": {
      "needs_background": "light"
     },
     "output_type": "display_data"
    }
   ],
   "source": [
    "plt.plot([td.total_seconds() for td in pred_times])"
   ],
   "metadata": {
    "collapsed": false,
    "pycharm": {
     "name": "#%%\n"
    }
   }
  },
  {
   "cell_type": "code",
   "execution_count": 148,
   "outputs": [
    {
     "data": {
      "text/plain": "count    10000.000000\nmean         0.003330\nstd          0.002515\nmin          0.001773\n1%           0.002103\n5%           0.002242\n10%          0.002306\n25%          0.002484\n50%          0.003008\n75%          0.003613\n90%          0.004371\n95%          0.005161\n99%          0.009076\nmax          0.179693\ndtype: float64"
     },
     "execution_count": 148,
     "metadata": {},
     "output_type": "execute_result"
    }
   ],
   "source": [
    "pd.Series(\n",
    "    [\n",
    "        td.total_seconds()\n",
    "        for td in pred_times\n",
    "    ]\n",
    ").describe(\n",
    "    percentiles=[0.01, 0.05, 0.1, 0.25, 0.5, 0.75, 0.9, 0.95, 0.99],\n",
    ")"
   ],
   "metadata": {
    "collapsed": false,
    "pycharm": {
     "name": "#%%\n"
    }
   }
  },
  {
   "cell_type": "code",
   "execution_count": null,
   "outputs": [],
   "source": [],
   "metadata": {
    "collapsed": false,
    "pycharm": {
     "name": "#%%\n"
    }
   }
  },
  {
   "cell_type": "code",
   "execution_count": null,
   "outputs": [],
   "source": [],
   "metadata": {
    "collapsed": false,
    "pycharm": {
     "name": "#%%\n"
    }
   }
  },
  {
   "cell_type": "code",
   "execution_count": null,
   "outputs": [],
   "source": [],
   "metadata": {
    "collapsed": false,
    "pycharm": {
     "name": "#%%\n"
    }
   }
  },
  {
   "cell_type": "markdown",
   "source": [],
   "metadata": {
    "collapsed": false,
    "pycharm": {
     "name": "#%% md\n"
    }
   }
  }
 ],
 "metadata": {
  "kernelspec": {
   "display_name": "Python 3",
   "language": "python",
   "name": "python3"
  },
  "language_info": {
   "codemirror_mode": {
    "name": "ipython",
    "version": 2
   },
   "file_extension": ".py",
   "mimetype": "text/x-python",
   "name": "python",
   "nbconvert_exporter": "python",
   "pygments_lexer": "ipython2",
   "version": "2.7.6"
  }
 },
 "nbformat": 4,
 "nbformat_minor": 0
}